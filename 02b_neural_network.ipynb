{
  "nbformat": 4,
  "nbformat_minor": 0,
  "metadata": {
    "colab": {
      "name": "02b_neural_network.ipynb",
      "provenance": [],
      "authorship_tag": "ABX9TyNrWiEG+FTw16Ip3t88AbU5",
      "include_colab_link": true
    },
    "kernelspec": {
      "name": "python3",
      "display_name": "Python 3"
    },
    "language_info": {
      "name": "python"
    }
  },
  "cells": [
    {
      "cell_type": "markdown",
      "metadata": {
        "id": "view-in-github",
        "colab_type": "text"
      },
      "source": [
        "<a href=\"https://colab.research.google.com/github/antounes/cv/blob/main/02b_neural_network.ipynb\" target=\"_parent\"><img src=\"https://colab.research.google.com/assets/colab-badge.svg\" alt=\"Open In Colab\"/></a>"
      ]
    },
    {
      "cell_type": "markdown",
      "source": [
        "# Flowers Image Classification Using a Neural Network"
      ],
      "metadata": {
        "id": "b4HHcfwkA2J1"
      }
    },
    {
      "cell_type": "markdown",
      "source": [
        "## Enable GPU and set up helper functions "
      ],
      "metadata": {
        "id": "wsw1B31NBmkx"
      }
    },
    {
      "cell_type": "code",
      "source": [
        "import tensorflow as tf\n",
        "print(tf.version.VERSION)\n",
        "device_name = tf.test.gpu_device_name()\n",
        "if device_name != \"/device:GPU:0\":\n",
        "  print(\"GPU device not found - On for CPU time!\")\n",
        "else:\n",
        "  print(\"Found GPU at: {}\".format(device_name))"
      ],
      "metadata": {
        "id": "7ZflwUsIBsSl"
      },
      "execution_count": null,
      "outputs": []
    },
    {
      "cell_type": "code",
      "source": [
        "# Helper functions\n",
        "\n",
        "def "
      ],
      "metadata": {
        "id": "37IImnPNBsZP"
      },
      "execution_count": null,
      "outputs": []
    },
    {
      "cell_type": "code",
      "source": [
        ""
      ],
      "metadata": {
        "id": "PeXy9PEdBsd6"
      },
      "execution_count": null,
      "outputs": []
    }
  ]
}