{
  "nbformat": 4,
  "nbformat_minor": 0,
  "metadata": {
    "colab": {
      "name": "02a_machine_perception.ipynb",
      "provenance": [],
      "authorship_tag": "ABX9TyPZQMaYqWWoZKhFYfvnx7GI",
      "include_colab_link": true
    },
    "kernelspec": {
      "name": "python3",
      "display_name": "Python 3"
    },
    "language_info": {
      "name": "python"
    },
    "accelerator": "GPU"
  },
  "cells": [
    {
      "cell_type": "markdown",
      "metadata": {
        "id": "view-in-github",
        "colab_type": "text"
      },
      "source": [
        "<a href=\"https://colab.research.google.com/github/antounes/cv/blob/main/02a_machine_perception.ipynb\" target=\"_parent\"><img src=\"https://colab.research.google.com/assets/colab-badge.svg\" alt=\"Open In Colab\"/></a>"
      ]
    },
    {
      "cell_type": "markdown",
      "source": [
        "# Flowers Image Classification Using a Linear Model"
      ],
      "metadata": {
        "id": "kTc1JBgmfDnS"
      }
    },
    {
      "cell_type": "markdown",
      "source": [
        "## Standardise Data Collection"
      ],
      "metadata": {
        "id": "paEE6D0xSv9-"
      }
    },
    {
      "cell_type": "markdown",
      "source": [
        "We're addressing a hard problem where the flower images are all collected in real-world conditions. However, in practice, you can often make a machine perception problem easier by standardising how the images are collected. For example, you could specify that your images have to be collected in controlled conditions, with flat lightning, and at a consistent zoom. This is common in the manufacturing industry $-$ factory conditions can be precisely specified. It is also common to design the scanner in such a way that an object can be placed in only one orientation. As a machine learning practitioner, you should be on the lookout for ways to make machine perception problems easier. This is not cheating $-$ it's the smart thing to do to set yourself up for succcess.\n",
        "\n",
        "Keep in mind, however, that your training dataset has to reflect the conditions under which your model will be required to make predictions. If your model is trained onyl on photographs of flowers taken by professional photographers, it will probably do poorly on photographs taken by amateurs whose lighting, zoom, and framing choices are likely to be different."
      ],
      "metadata": {
        "id": "h0-JSVOpS5Xn"
      }
    },
    {
      "cell_type": "markdown",
      "source": [
        "## Enable GPU"
      ],
      "metadata": {
        "id": "bVn2HqC-TNlX"
      }
    },
    {
      "cell_type": "code",
      "source": [
        "import tensorflow as tf\n",
        "print(tf.version.VERSION)\n",
        "device_name = tf.test.gpu_device_name()\n",
        "if device_name != '/device:GPU:0':\n",
        "  raise SystemError('GPU device not found')\n",
        "print('Found GPU at: {}'.format(device_name))"
      ],
      "metadata": {
        "id": "QfEUQKckTV6f",
        "colab": {
          "base_uri": "https://localhost:8080/"
        },
        "outputId": "4f517d6e-8c0a-43ac-99bd-4ac06612d1e7"
      },
      "execution_count": 3,
      "outputs": [
        {
          "output_type": "stream",
          "name": "stdout",
          "text": [
            "2.7.0\n",
            "Found GPU at: /device:GPU:0\n"
          ]
        }
      ]
    },
    {
      "cell_type": "markdown",
      "source": [
        "## Examine the Images"
      ],
      "metadata": {
        "id": "mLLgxue1fiZZ"
      }
    },
    {
      "cell_type": "code",
      "source": [
        ""
      ],
      "metadata": {
        "id": "7JARyr-6fjFG"
      },
      "execution_count": null,
      "outputs": []
    },
    {
      "cell_type": "code",
      "source": [
        ""
      ],
      "metadata": {
        "id": "heSZI3tCfjRu"
      },
      "execution_count": null,
      "outputs": []
    },
    {
      "cell_type": "code",
      "source": [
        ""
      ],
      "metadata": {
        "id": "pWdxKOGBfjXM"
      },
      "execution_count": null,
      "outputs": []
    },
    {
      "cell_type": "code",
      "source": [
        ""
      ],
      "metadata": {
        "id": "2PVVPgEzfjbP"
      },
      "execution_count": null,
      "outputs": []
    }
  ]
}